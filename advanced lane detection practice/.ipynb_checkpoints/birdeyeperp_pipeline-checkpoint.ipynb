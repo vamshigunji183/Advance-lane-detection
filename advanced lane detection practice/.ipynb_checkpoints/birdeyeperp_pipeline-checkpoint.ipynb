{
 "cells": [
  {
   "cell_type": "code",
   "execution_count": 6,
   "metadata": {},
   "outputs": [],
   "source": [
    "import numpy as np\n",
    "import pandas as pd\n",
    "import matplotlib.pyplot as plt\n",
    "from cameracalibration import camera_calibration\n",
    "from binarization import binary_threshold\n",
    "import cv2"
   ]
  },
  {
   "cell_type": "code",
   "execution_count": 7,
   "metadata": {},
   "outputs": [],
   "source": [
    "def birdeyeview(img,verbose=False):\n",
    "    h,w = img.shape[:2]\n",
    "    source_point = np.float([[w,h-10], #bottom right point\n",
    "                            [0,h-10], #bottom left point\n",
    "                            [546,460], #top left point\n",
    "                            [732,460]]) #top right point\n",
    "    destination_point = np.float([[w,h], #bottom right point\n",
    "                                 [0,h], #bottom left point\n",
    "                                 [0,0], #top right point\n",
    "                                 [w,0]]) #top right point\n",
    "    presp_trans = cv2.getPrespectiveTransform(source_point,destination_point)\n",
    "    rev_prep_trans = cv2.getPrespectiveTransform(destination_point,source_point)\n",
    "    \n",
    "    \n",
    "    wrapped = cv2.WrapPrespective(img,presp_transf,(width,height),flags = cv2.INTER_LINEAR)\n",
    "#  flags – combination of interpolation methods \n",
    "# (INTER_LINEAR or INTER_NEAREST) and the optional \n",
    "# flag WARP_INVERSE_MAP, that sets M as the inverse \n",
    "# transformation ( \\texttt{dst}\\rightarrow\\texttt{src} )\n",
    "\n",
    "    if verbose:\n",
    "        f = plt.figure(figsize=(100,35))\n",
    "        ax1, ax2 = f.subplots(1, 2, sharex='col', sharey='row')\n",
    "        f.set_facecolor('white')\n",
    "        ax1.set_title('Before Prespective')\n",
    "        ax1.imshow(img,cmap=gray)\n",
    "\n",
    "        ax2.set_title('After prespective')\n",
    "        ax2.imshow(wrapped,cmap=gray)\n",
    "\n",
    "\n"
   ]
  },
  {
   "cell_type": "code",
   "execution_count": 8,
   "metadata": {},
   "outputs": [
    {
     "ename": "NameError",
     "evalue": "name 'w' is not defined",
     "output_type": "error",
     "traceback": [
      "\u001b[1;31m---------------------------------------------------------------------------\u001b[0m",
      "\u001b[1;31mNameError\u001b[0m                                 Traceback (most recent call last)",
      "\u001b[1;32m<ipython-input-8-03b4ce60c08c>\u001b[0m in \u001b[0;36m<module>\u001b[1;34m()\u001b[0m\n\u001b[0;32m      1\u001b[0m \u001b[0mimg\u001b[0m \u001b[1;33m=\u001b[0m \u001b[0mcv2\u001b[0m\u001b[1;33m.\u001b[0m\u001b[0mimread\u001b[0m\u001b[1;33m(\u001b[0m\u001b[1;34m'test_images/test1.jpg'\u001b[0m\u001b[1;33m)\u001b[0m\u001b[1;33m\u001b[0m\u001b[0m\n\u001b[1;32m----> 2\u001b[1;33m \u001b[0mbirdeyeview\u001b[0m\u001b[1;33m(\u001b[0m\u001b[0mimg\u001b[0m\u001b[1;33m,\u001b[0m\u001b[0mverbose\u001b[0m\u001b[1;33m=\u001b[0m\u001b[1;32mTrue\u001b[0m\u001b[1;33m)\u001b[0m\u001b[1;33m\u001b[0m\u001b[0m\n\u001b[0m",
      "\u001b[1;32m<ipython-input-7-ac892dbd1eda>\u001b[0m in \u001b[0;36mbirdeyeview\u001b[1;34m(img, verbose)\u001b[0m\n\u001b[0;32m      1\u001b[0m \u001b[1;32mdef\u001b[0m \u001b[0mbirdeyeview\u001b[0m\u001b[1;33m(\u001b[0m\u001b[0mimg\u001b[0m\u001b[1;33m,\u001b[0m\u001b[0mverbose\u001b[0m\u001b[1;33m=\u001b[0m\u001b[1;32mFalse\u001b[0m\u001b[1;33m)\u001b[0m\u001b[1;33m:\u001b[0m\u001b[1;33m\u001b[0m\u001b[0m\n\u001b[0;32m      2\u001b[0m     \u001b[0mheight\u001b[0m\u001b[1;33m,\u001b[0m\u001b[0mwidth\u001b[0m \u001b[1;33m=\u001b[0m \u001b[0mimg\u001b[0m\u001b[1;33m.\u001b[0m\u001b[0mshape\u001b[0m\u001b[1;33m[\u001b[0m\u001b[1;33m:\u001b[0m\u001b[1;36m2\u001b[0m\u001b[1;33m]\u001b[0m\u001b[1;33m\u001b[0m\u001b[0m\n\u001b[1;32m----> 3\u001b[1;33m     source_point = np.float([[w,h-10], #bottom right point\n\u001b[0m\u001b[0;32m      4\u001b[0m                             \u001b[1;33m[\u001b[0m\u001b[1;36m0\u001b[0m\u001b[1;33m,\u001b[0m\u001b[0mh\u001b[0m\u001b[1;33m-\u001b[0m\u001b[1;36m10\u001b[0m\u001b[1;33m]\u001b[0m\u001b[1;33m,\u001b[0m \u001b[1;31m#bottom left point\u001b[0m\u001b[1;33m\u001b[0m\u001b[0m\n\u001b[0;32m      5\u001b[0m                             \u001b[1;33m[\u001b[0m\u001b[1;36m546\u001b[0m\u001b[1;33m,\u001b[0m\u001b[1;36m460\u001b[0m\u001b[1;33m]\u001b[0m\u001b[1;33m,\u001b[0m \u001b[1;31m#top left point\u001b[0m\u001b[1;33m\u001b[0m\u001b[0m\n",
      "\u001b[1;31mNameError\u001b[0m: name 'w' is not defined"
     ]
    }
   ],
   "source": [
    "img = cv2.imread('test_images/test1.jpg')\n",
    "birdeyeview(img,verbose=True)"
   ]
  },
  {
   "cell_type": "code",
   "execution_count": null,
   "metadata": {},
   "outputs": [],
   "source": []
  }
 ],
 "metadata": {
  "kernelspec": {
   "display_name": "Python 3",
   "language": "python",
   "name": "python3"
  },
  "language_info": {
   "codemirror_mode": {
    "name": "ipython",
    "version": 3
   },
   "file_extension": ".py",
   "mimetype": "text/x-python",
   "name": "python",
   "nbconvert_exporter": "python",
   "pygments_lexer": "ipython3",
   "version": "3.6.5"
  }
 },
 "nbformat": 4,
 "nbformat_minor": 2
}
